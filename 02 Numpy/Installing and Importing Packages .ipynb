{
 "cells": [
  {
   "cell_type": "code",
   "execution_count": 2,
   "metadata": {},
   "outputs": [],
   "source": [
    "# A module is a simple file containing Python definitions , functions and statements. Putting code into modules is\n",
    "# useful because of the ability to import the  module functionality into your python script or ipython session."
   ]
  },
  {
   "cell_type": "code",
   "execution_count": 1,
   "metadata": {},
   "outputs": [],
   "source": [
    "# A package is just a way of collecting related modules together within a single tree like hierarchy.\n",
    "#Very complex packages like numpy or Scipy have hundreds of individual modules so putting \n",
    "#them into a directory like structure keeps things organised and avoid name collisions."
   ]
  },
  {
   "cell_type": "code",
   "execution_count": 2,
   "metadata": {},
   "outputs": [],
   "source": [
    "#Steps:-\n",
    "#    Find Package\n",
    "#    Install package\n",
    "#    import package or import function"
   ]
  },
  {
   "cell_type": "code",
   "execution_count": 3,
   "metadata": {},
   "outputs": [],
   "source": [
    "#In anaconda command prompt write :-\n",
    "#1. Conda install packagename\n",
    "#2. Pip install packagename"
   ]
  },
  {
   "cell_type": "code",
   "execution_count": null,
   "metadata": {},
   "outputs": [],
   "source": [
    "#import scrapy\n",
    "#from scrapy.scrawler import CrawlerProcess"
   ]
  }
 ],
 "metadata": {
  "kernelspec": {
   "display_name": "Python 3",
   "language": "python",
   "name": "python3"
  },
  "language_info": {
   "codemirror_mode": {
    "name": "ipython",
    "version": 3
   },
   "file_extension": ".py",
   "mimetype": "text/x-python",
   "name": "python",
   "nbconvert_exporter": "python",
   "pygments_lexer": "ipython3",
   "version": "3.7.6"
  }
 },
 "nbformat": 4,
 "nbformat_minor": 4
}
