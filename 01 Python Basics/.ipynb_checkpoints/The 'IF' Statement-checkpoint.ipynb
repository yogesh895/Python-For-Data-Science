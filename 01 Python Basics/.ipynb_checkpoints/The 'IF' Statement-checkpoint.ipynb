{
 "cells": [
  {
   "cell_type": "code",
   "execution_count": 1,
   "metadata": {},
   "outputs": [],
   "source": [
    "import numpy as np      #Numpy -> numerical python is a library in python , np is alias (a short name) through which it is imported and used\n",
    "from numpy.random import randn   #randn-> random number function"
   ]
  },
  {
   "cell_type": "code",
   "execution_count": 22,
   "metadata": {},
   "outputs": [
    {
     "data": {
      "text/plain": [
       "-0.35984640396055134"
      ]
     },
     "execution_count": 22,
     "metadata": {},
     "output_type": "execute_result"
    }
   ],
   "source": [
    "randn()"
   ]
  },
  {
   "cell_type": "code",
   "execution_count": 73,
   "metadata": {},
   "outputs": [
    {
     "name": "stdout",
     "output_type": "stream",
     "text": [
      "0.09661682724474027\n",
      "None\n"
     ]
    }
   ],
   "source": [
    "ans=None                   #if statement\n",
    "x= randn()\n",
    "if x>1:\n",
    "    ans=\"greater than 1\"\n",
    "print (x)\n",
    "print (ans)"
   ]
  },
  {
   "cell_type": "code",
   "execution_count": 95,
   "metadata": {},
   "outputs": [
    {
     "name": "stdout",
     "output_type": "stream",
     "text": [
      "0.6382964738759628\n",
      "less than 1\n"
     ]
    }
   ],
   "source": [
    "ans=None                  #if-else statement\n",
    "x= randn()\n",
    "if x>1:\n",
    "    ans=\"greater than 1\"\n",
    "else:\n",
    "    ans=\"less than 1\"\n",
    "print (x)\n",
    "print (ans)"
   ]
  },
  {
   "cell_type": "code",
   "execution_count": 126,
   "metadata": {},
   "outputs": [
    {
     "name": "stdout",
     "output_type": "stream",
     "text": [
      "-0.7911883703655761\n",
      "between -1 and 1\n"
     ]
    }
   ],
   "source": [
    "ans=None                  #nested if statement\n",
    "x= randn()\n",
    "if x>1:\n",
    "    ans=\"greater than 1\"\n",
    "else:\n",
    "    if x<1 and x>-1:\n",
    "        ans=\"between -1 and 1\"\n",
    "    else:\n",
    "        ans=\"less than -1\"\n",
    "print (x)\n",
    "print (ans)"
   ]
  },
  {
   "cell_type": "code",
   "execution_count": 156,
   "metadata": {},
   "outputs": [
    {
     "name": "stdout",
     "output_type": "stream",
     "text": [
      "-1.7803723513096148\n",
      "less than -1\n"
     ]
    }
   ],
   "source": [
    "ans=None                  #chain/continue statements of if-else\n",
    "x= randn()\n",
    "if x>1:\n",
    "    ans=\"greater than 1\"\n",
    "elif x<1 and x>-1:\n",
    "    ans=\"between -1 and 1\"\n",
    "else:\n",
    "    ans=\"less than -1\"\n",
    "print (x)\n",
    "print (ans)"
   ]
  },
  {
   "cell_type": "code",
   "execution_count": null,
   "metadata": {},
   "outputs": [],
   "source": []
  }
 ],
 "metadata": {
  "kernelspec": {
   "display_name": "Python 3",
   "language": "python",
   "name": "python3"
  },
  "language_info": {
   "codemirror_mode": {
    "name": "ipython",
    "version": 3
   },
   "file_extension": ".py",
   "mimetype": "text/x-python",
   "name": "python",
   "nbconvert_exporter": "python",
   "pygments_lexer": "ipython3",
   "version": "3.7.6"
  }
 },
 "nbformat": 4,
 "nbformat_minor": 4
}
