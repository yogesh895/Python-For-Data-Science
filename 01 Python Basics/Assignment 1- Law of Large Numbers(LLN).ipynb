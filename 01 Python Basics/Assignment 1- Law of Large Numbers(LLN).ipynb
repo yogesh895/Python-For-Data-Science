{
 "cells": [
  {
   "cell_type": "code",
   "execution_count": 2,
   "metadata": {},
   "outputs": [],
   "source": [
    "#-----------A program to prove the law of large numbers-------------------------------\n",
    "#law of large number states that \n",
    "#X'(n)= E(X) when n-> infinity\n",
    "#X'(n)-> Mean/average of n numbers\n",
    "#E(X)-> expectation/expected value after n is increasing\n",
    "\n",
    "#Eg- When we toss \n",
    "#    10 coins 70:30 %\n",
    "#    100 coins 58:42 %\n",
    "#    1000 coins 49.2:50.8 % \n",
    "\n",
    "#for below problem E(x) is 68.2% and we need to check that the mean(X'(n)) is approaching it or not!!"
   ]
  },
  {
   "cell_type": "code",
   "execution_count": 117,
   "metadata": {},
   "outputs": [
    {
     "name": "stdout",
     "output_type": "stream",
     "text": [
      "0.6874\n"
     ]
    }
   ],
   "source": [
    "import numpy as np\n",
    "from numpy.random import randn\n",
    "N= 10000\n",
    "x=randn(N)\n",
    "count=0\n",
    "for i in x:\n",
    "    if i>-1 and i<1:\n",
    "        count+=1        \n",
    "ans= count/N\n",
    "print(ans)\n",
    "\n",
    "    "
   ]
  },
  {
   "cell_type": "code",
   "execution_count": null,
   "metadata": {},
   "outputs": [],
   "source": []
  },
  {
   "cell_type": "code",
   "execution_count": null,
   "metadata": {},
   "outputs": [],
   "source": []
  }
 ],
 "metadata": {
  "kernelspec": {
   "display_name": "Python 3",
   "language": "python",
   "name": "python3"
  },
  "language_info": {
   "codemirror_mode": {
    "name": "ipython",
    "version": 3
   },
   "file_extension": ".py",
   "mimetype": "text/x-python",
   "name": "python",
   "nbconvert_exporter": "python",
   "pygments_lexer": "ipython3",
   "version": "3.7.7"
  }
 },
 "nbformat": 4,
 "nbformat_minor": 4
}
